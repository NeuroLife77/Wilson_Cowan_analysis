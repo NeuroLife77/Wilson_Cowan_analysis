{
 "cells": [
  {
   "cell_type": "markdown",
   "metadata": {},
   "source": [
    "# An interactive phase plane\n",
    "\n",
    "To try it without having to download the repository to: \n",
    "https://colab.research.google.com/drive/164Gzja9miNliiXIscJxG23ysRlxVgde-\n"
   ]
  },
  {
   "cell_type": "code",
   "execution_count": 5,
   "metadata": {},
   "outputs": [],
   "source": [
    "import path_setup\n",
    "import numpy as np\n",
    "import matplotlib.pyplot as plt\n",
    "from copy import deepcopy as dcp \n",
    "from WC_lib.model_utils import *\n",
    "from WC_lib.stability_analysis_utils import *\n",
    "from ipywidgets import interactive, fixed, FloatText, Text, IntText,Layout, Box"
   ]
  },
  {
   "cell_type": "code",
   "execution_count": null,
   "metadata": {},
   "outputs": [],
   "source": [
    "# General plotting settings\n",
    "vector_field_resolution = 25\n",
    "vector_field_arrow_width = 0.0005\n",
    "dpi = 110\n",
    "image_scaling = 1.5"
   ]
  },
  {
   "cell_type": "code",
   "execution_count": 6,
   "metadata": {},
   "outputs": [],
   "source": [
    "def plot_phase_plane(\n",
    "                        bifurcate, ncols,\n",
    "                        c_ee, c_ei, c_ie, c_ii,\n",
    "                        theta_e, theta_i,\n",
    "                        a_e, a_i,\n",
    "                        tau_e,tau_i,\n",
    "                        state_space_range,\n",
    "                        plot_bounds_range, figargs\n",
    "    ):\n",
    "    # Read the plot settings from the text boxes according to their format\n",
    "    bifurcation_settings = [bif.split(\",\") for bif in bifurcate.split(\" | \")]\n",
    "    state_space_str = state_space_range.split(\",\")\n",
    "    plot_bounds = [float(pb) for pb in plot_bounds_range.split(\",\")]\n",
    "    state_space = [[float(state_space_str[0]),float(state_space_str[1])],[float(state_space_str[2]),float(state_space_str[3])]]\n",
    "    # Define the space for nullclines\n",
    "    Es, Is = get_Es_Is_log_edges(state_space,figargs[\"n_points\"], edge_res=-3)\n",
    "    # Define the parameter set of interest\n",
    "    parameters_default = np.array([\n",
    "                                c_ee, c_ei, c_ie, c_ii,                 #c_xx\n",
    "                                tau_e,tau_i ,                           #tau_x\n",
    "                                theta_e, theta_i,                       #theta_x\n",
    "                                a_e, a_i,                               #a_x\n",
    "                                1.0, 1.0, 1.0, 1.0,                     #k_x, r_x\n",
    "                                0, 0                                    #noise\n",
    "                    ])\n",
    "    # Plotting settings\n",
    "    subplot_size = figargs[\"subplot_size\"]\n",
    "    nrows = np.ceil(len(bifurcation_settings)/ncols).astype(int)\n",
    "    fig = plt.figure(figsize = (subplot_size[0]*ncols,subplot_size[1]*nrows), dpi = dpi)\n",
    "    # For each subplot\n",
    "    for i in range(len(bifurcation_settings)):\n",
    "        ax = plt.subplot(nrows,ncols,1+i)\n",
    "        # Find if the nullcline that changes is E_null or I_null\n",
    "        bifpar = bifurcation_settings[i][0]\n",
    "        if bifpar in [\"c_ee\", \"c_ei\",\"theta_e\", \"a_e\"]:\n",
    "            iterate_over_I = False\n",
    "        elif bifpar in [\"c_ie\", \"c_ii\",\"theta_i\", \"a_i\"]:\n",
    "            iterate_over_I = True\n",
    "        # Define the parameter values for the given range\n",
    "        bif_space = np.linspace(float(bifurcation_settings[i][1]),float(bifurcation_settings[i][2]),int(bifurcation_settings[i][3]))\n",
    "        # Format the parameters\n",
    "        parameters_set = np.zeros((bif_space.shape[0],parameters_default.shape[0])) + parameters_default[None,:]\n",
    "        parameters_set[:,parameter_index_mapping[bifpar]] = bif_space\n",
    "        # Define the color gradient\n",
    "        ax.set_prop_cycle('color', plt.cm.viridis(np.linspace(0,1,bif_space.shape[0])))\n",
    "        # Plot each nullcline\n",
    "        for p, parameters in enumerate(parameters_set):\n",
    "            Enull = [Is,fn_E_nullcline(Is, parameters,0)]\n",
    "            Inull = [fn_I_nullcline(Es, parameters,0),Es]\n",
    "            if iterate_over_I:\n",
    "                plt.plot(Enull[0],Enull[1], lw = 0.75, label=f\"{round(bif_space[p],2)}\")\n",
    "            else:\n",
    "                plt.plot(Inull[0],Inull[1], lw = 0.75, label=f\"{round(bif_space[p],2)}\")\n",
    "        if len(parameters_set)<12: # Plot the legend (12 points would make the legend too big)\n",
    "            plt.legend(ncols=min(len(parameters_set),3),columnspacing=0.5)\n",
    "        \n",
    "        # Plot the nullclines for the parameter set of interest (parameters_default)\n",
    "        Enull = [Is,fn_E_nullcline(Is, parameters_default,0)]\n",
    "        Inull = [fn_I_nullcline(Es, parameters_default,0),Es]\n",
    "        plt.plot(Inull[0],Inull[1], \"--g\", lw = 1.75)\n",
    "        plt.plot(Enull[0],Enull[1], \"--r\", lw = 1.75)\n",
    "        # Plot the associated vector field \n",
    "        Es_quiver = np.linspace(plot_bounds[2],plot_bounds[3],vector_field_resolution)\n",
    "        Is_quiver = np.linspace(plot_bounds[0],plot_bounds[1],vector_field_resolution)\n",
    "        Edot_grid = np.zeros((Es_quiver.shape[0],Is_quiver.shape[0]))\n",
    "        Idot_grid = np.zeros((Es_quiver.shape[0],Is_quiver.shape[0]))\n",
    "        for j in range(Es_quiver.shape[0]):\n",
    "            Edot_grid[j] = fn_Edot(Es_quiver[j],Is_quiver,parameters_default,0)\n",
    "            Idot_grid[j] = fn_Idot(Es_quiver[j],Is_quiver,parameters_default)\n",
    "        xgrid, ygrid = np.meshgrid(Is_quiver,Es_quiver)\n",
    "        flow = plt.quiver(xgrid,ygrid,Idot_grid,Edot_grid, width = vector_field_arrow_width, angles=\"xy\")\n",
    "        # Define the plot bounds\n",
    "        plt.xlim(plot_bounds[0]-0.0125,plot_bounds[1]+0.0125)\n",
    "        plt.ylim(plot_bounds[2]-0.0125,plot_bounds[3]+0.0125)\n",
    "        plt.xlabel(\"Inhibitory\")\n",
    "        plt.ylabel(\"Excitatory\")\n",
    "        # Set the title of the subplot\n",
    "        plt.title(parameter_latex_mapping[bifpar])\n",
    "    plt.tight_layout()\n",
    "    plt.show()\n",
    "\n",
    "def get_widget_dict(\n",
    "                    parameters_interest,\n",
    "                    bif_pars, n_bif_pts=5,\n",
    "                    width_init = 0.25,\n",
    "                    init_ncols = 4,\n",
    "                    \n",
    "        ):\n",
    "    init_bif = \" | \".join([\",\".join([f\"{bif_pars[p]}\",f\"{round(parameters_interest[parameter_index_mapping[bif_pars[p]]]*(1-width_init),3)}\",f\"{round(parameters_interest[parameter_index_mapping[bif_pars[p]]]*(1+width_init),3)}\",str(n_bif_pts)]) for p in range(len(bif_pars))])\n",
    "    widget_dict = dict(\n",
    "                bifurcate = Text(\n",
    "                    value=init_bif,\n",
    "                    placeholder='Bif_par0,start,end,nstep | Bif_par1,start,end,nstep|...',\n",
    "                    description='bifurcation:',\n",
    "                    continuous_update=False,\n",
    "                    disabled=False,\n",
    "                    layout = Layout(width='76.2525%', height=\"40px\")\n",
    "                ),\n",
    "                c_ee = FloatText(\n",
    "                            value=parameters_interest[0],\n",
    "                            description='c_ee',\n",
    "                            disabled=False,continuous_update=False\n",
    "                        ),\n",
    "                c_ei = FloatText(\n",
    "                            value=parameters_interest[1],\n",
    "                            description='c_ei',\n",
    "                            disabled=False,continuous_update=False\n",
    "                        ),\n",
    "                c_ie = FloatText(\n",
    "                            value=parameters_interest[2],\n",
    "                            description='c_ie',\n",
    "                            disabled=False,continuous_update=False\n",
    "                        ),\n",
    "                c_ii = FloatText(\n",
    "                            value=parameters_interest[3],\n",
    "                            description='c_ii',\n",
    "                            disabled=False,continuous_update=False\n",
    "                        ),\n",
    "                theta_e = FloatText(\n",
    "                            value=parameters_interest[6],\n",
    "                            description='theta_e',\n",
    "                            disabled=False,continuous_update=False\n",
    "                        ),\n",
    "                theta_i = FloatText(\n",
    "                            value=parameters_interest[7],\n",
    "                            description='theta_i',\n",
    "                            disabled=False,continuous_update=False\n",
    "                        ),\n",
    "                a_e = FloatText(\n",
    "                            value=parameters_interest[8],\n",
    "                            description='a_e',\n",
    "                            disabled=False,continuous_update=False\n",
    "                        ),\n",
    "                a_i = FloatText(\n",
    "                            value=parameters_interest[9],\n",
    "                            description='a_i',\n",
    "                            disabled=False,continuous_update=False\n",
    "                        ),\n",
    "                tau_e = FloatText(\n",
    "                            value=parameters_interest[4],\n",
    "                            description='tau_e',\n",
    "                            disabled=False,continuous_update=False\n",
    "                        ),\n",
    "                tau_i = FloatText(\n",
    "                            value=parameters_interest[5],\n",
    "                            description='tau_i',\n",
    "                            disabled=False,continuous_update=False\n",
    "                        ),\n",
    "                state_space_range = Text(\n",
    "                    value='0,0.5,0,0.5',\n",
    "                    placeholder='I_min,I_max,E_min,E_max',\n",
    "                    description='State Space:',\n",
    "                    disabled=False,continuous_update=False\n",
    "                ),\n",
    "                plot_bounds_range = Text(\n",
    "                    value='0,0.5,0,0.5',\n",
    "                    placeholder='I_min,I_max,E_min,E_max',\n",
    "                    description='Plot space:',\n",
    "                    disabled=False,continuous_update=False\n",
    "                ),\n",
    "                ncols = IntText(\n",
    "                            value=init_ncols,\n",
    "                            description='ncols',\n",
    "                            disabled=False,continuous_update=False\n",
    "                        ),\n",
    "        )\n",
    "    return widget_dict"
   ]
  },
  {
   "cell_type": "markdown",
   "metadata": {},
   "source": [
    "# What the interactive plot can do\n",
    "\n",
    "The interactive plot displays the phase plane for a set parameter values (with the nullclines shown as dashed lines) which can be changed using the text boxes that are associated with each parameter. \n",
    "\n",
    "Additionally, it can take in a list of parameters to explore within a certain range with a certain number of points through the \"bifurcation\" text box. \n",
    "\n",
    "For each parameter in this list, it will make a copy of the phase plane and add the nullclines for each parameter value listed within the range defined for this parameter, with the nullclines following a color gradient.\n",
    "\n",
    "This allows the exploration of changes in parameter values around a certain parameter set of interest for multiple parameters at the same time."
   ]
  },
  {
   "cell_type": "markdown",
   "metadata": {},
   "source": [
    "## Interface explanation\n",
    "\n",
    "Editing the code for \"parameters_interest\", \"bif_pars\", and \"widget_dict\", will change the initial state of the interactive plot, but will not restrain what can be done with it as all features are controllable through the interactive text boxes.\n",
    "\n",
    "To define the parameter set of interest, simply edit the value associated with each parameter's respective box. \n",
    "\n",
    "To define the exploration around this parameter set of interest simply edit the text in the \"bifurcation\" text box respecting the following format: parameter_0,start_value,end_value,number_of_points | parameter_1,start_value,end_value,number_of_points | ...\n",
    "\n",
    "Some additional inputs are defined such as \"ncols\", which allows control over the number of plots per row (if looking at multiple parameters at once), \"State Space\" which defines where the nullclines are to be located and \"Plot space\" which defines what limits are for the plots (allows you to zoom-in around some region).\n",
    "\n",
    "Note that there is only 1 vector field shown in the plot, even though multiple nullclines are present. This vector field is associated with the parameter set of interest (the dashed nullclines) and it is not changed by what is in the \"bifurcation\" text box."
   ]
  },
  {
   "cell_type": "markdown",
   "metadata": {},
   "source": [
    "### Exploring a single parameter"
   ]
  },
  {
   "cell_type": "code",
   "execution_count": 7,
   "metadata": {},
   "outputs": [
    {
     "data": {
      "application/vnd.jupyter.widget-view+json": {
       "model_id": "6c7b7e693e3e44c49895bfd9f1ba4f40",
       "version_major": 2,
       "version_minor": 0
      },
      "text/plain": [
       "Box(children=(Text(value='c_ee,14.4,17.6,8', continuous_update=False, description='bifurcation:', layout=Layou…"
      ]
     },
     "metadata": {},
     "output_type": "display_data"
    },
    {
     "data": {
      "application/vnd.jupyter.widget-view+json": {
       "model_id": "e0bcef5bcd58415b80969687e8ae36f3",
       "version_major": 2,
       "version_minor": 0
      },
      "text/plain": [
       "Output()"
      ]
     },
     "metadata": {},
     "output_type": "display_data"
    }
   ],
   "source": [
    "parameters_interest = limit_cycle40Hz\n",
    "bif_pars = [\"c_ee\"]\n",
    "widget_dict = get_widget_dict(\n",
    "                    parameters_interest,\n",
    "                    bif_pars, n_bif_pts=8,\n",
    "                    width_init = 0.1,\n",
    "                    init_ncols = 1,\n",
    "                    \n",
    "        )\n",
    "figargs = {\n",
    "    \"subplot_size\":(4*image_scaling,3.75*image_scaling),\n",
    "    \"n_points\":100, # Defines the number of points used to plot the nullclines.\n",
    "}\n",
    "interactive_plot = interactive(plot_phase_plane, figargs=fixed(figargs),**widget_dict)\n",
    "output = interactive_plot.children[-1]\n",
    "widget_interactives = interactive_plot.children[:-1]\n",
    "display(Box(widget_interactives[:len(widget_interactives)], layout = Layout(\n",
    "                                                                                flex_flow='row wrap',\n",
    "                                                                                width='100%', \n",
    "                                                                                align_items='flex-start',\n",
    "                                                                                justify_content = \"flex-start\"\n",
    "                    )))\n",
    "display((output))"
   ]
  },
  {
   "cell_type": "markdown",
   "metadata": {},
   "source": [
    "### Exploring multiple parameters simultaneously"
   ]
  },
  {
   "cell_type": "markdown",
   "metadata": {},
   "source": [
    "Note that the vector field and the dashed lines are the same for each subplot, only the explored nullclines are changed across subplots based on the parameter range that it is showing.\n",
    "\n",
    "If the plots are too small you can change the number of columns \"ncols\" or change the \"subplot_size\" item in the \"figargs\" dict. If the text in the plots is too small you can change the \"dpi\" variable in the \"plot_phase_plane\" function defined in the 2nd cell."
   ]
  },
  {
   "cell_type": "code",
   "execution_count": 9,
   "metadata": {},
   "outputs": [
    {
     "data": {
      "application/vnd.jupyter.widget-view+json": {
       "model_id": "a32d42d1de82425191c049bc8ab00f8d",
       "version_major": 2,
       "version_minor": 0
      },
      "text/plain": [
       "Box(children=(Text(value='c_ee,12.0,20.0,8 | c_ei,9.0,15.0,8 | theta_e,1.5,2.5,8 | a_e,0.975,1.625,8 | c_ie,11…"
      ]
     },
     "metadata": {},
     "output_type": "display_data"
    },
    {
     "data": {
      "application/vnd.jupyter.widget-view+json": {
       "model_id": "ccbcd61c4e1f4c4bb2cf54343a218a66",
       "version_major": 2,
       "version_minor": 0
      },
      "text/plain": [
       "Output()"
      ]
     },
     "metadata": {},
     "output_type": "display_data"
    }
   ],
   "source": [
    "parameters_interest = limit_cycle40Hz\n",
    "bif_pars = [\"c_ee\",\"c_ei\",\"theta_e\",\"a_e\",\"c_ie\",\"c_ii\",\"theta_i\",\"a_i\"]\n",
    "widget_dict = get_widget_dict(\n",
    "                    parameters_interest,\n",
    "                    bif_pars, n_bif_pts=8,\n",
    "                    width_init = 0.25,\n",
    "                    init_ncols = 3,\n",
    "                    \n",
    "        )\n",
    "figargs = {\n",
    "    \"subplot_size\":(4*image_scaling,3.75*image_scaling),\n",
    "    \"n_points\":100, # Defines the number of points used to plot the nullclines.\n",
    "}\n",
    "interactive_plot = interactive(plot_phase_plane, figargs=fixed(figargs),**widget_dict)\n",
    "output = interactive_plot.children[-1]\n",
    "widget_interactives = interactive_plot.children[:-1]\n",
    "display(Box(widget_interactives[:len(widget_interactives)], layout = Layout(\n",
    "                                                                                flex_flow='row wrap',\n",
    "                                                                                width='100%', \n",
    "                                                                                align_items='flex-start',\n",
    "                                                                                justify_content = \"flex-start\"\n",
    "                    )))\n",
    "display((output))"
   ]
  }
 ],
 "metadata": {
  "kernelspec": {
   "display_name": "timon_base39",
   "language": "python",
   "name": "python3"
  },
  "language_info": {
   "codemirror_mode": {
    "name": "ipython",
    "version": 3
   },
   "file_extension": ".py",
   "mimetype": "text/x-python",
   "name": "python",
   "nbconvert_exporter": "python",
   "pygments_lexer": "ipython3",
   "version": "3.9.20"
  }
 },
 "nbformat": 4,
 "nbformat_minor": 2
}
